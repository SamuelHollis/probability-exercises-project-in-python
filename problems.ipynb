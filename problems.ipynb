{
    "cells": [
        {
            "cell_type": "markdown",
            "id": "ac622319",
            "metadata": {},
            "source": [
                "# Descriptive statistics problems"
            ]
        },
        {
            "cell_type": "markdown",
            "id": "5e0ab0d5",
            "metadata": {},
            "source": [
                "### Exercise 1\n",
                "\n",
                "We will use NumPy to obtain information to describe statistically.\n",
                "\n",
                "- Generate an array of 100 elements following a normal distribution.\n",
                "- Generate an array of 100 elements following a chi-square distribution with 3 degrees of freedom.\n",
                "- Calculate the main metrics and statistical measures that best describe the two vectors."
            ]
        },
        {
            "cell_type": "code",
            "execution_count": 84,
            "id": "34720ab6",
            "metadata": {},
            "outputs": [
                {
                    "name": "stdout",
                    "output_type": "stream",
                    "text": [
                        "[ 0.25974187 -0.58834717  3.33569994  1.80802783  0.1242402   0.86841739\n",
                        " -0.17095993 -1.87663366 -1.68438094 -0.37601045  0.88964781  1.22566087\n",
                        "  0.3937821   0.2511195  -0.54185984 -0.21682934 -1.40226433  1.13290114\n",
                        " -1.14136561  1.77264556 -1.52104502  1.10780459  0.46227966 -1.15222543\n",
                        "  0.14111137 -0.96362231 -1.01468718  2.56863219 -0.42621553  0.62829445\n",
                        " -1.3039694  -0.52861984 -0.12993873 -1.04351451 -2.24511929  0.19033959\n",
                        "  0.95183471 -0.98731301 -0.69811592  0.2014206   0.63757353 -0.03495414\n",
                        "  0.7444863   2.31051169 -2.83287017  0.97626212  0.52473646  1.19094053\n",
                        "  0.83842253  1.27534273 -2.01882113  0.57542523 -1.96506856 -0.01123495\n",
                        "  0.15634219 -1.17971245  0.21503674  0.90863684 -0.26126501  1.52207739\n",
                        "  0.24562509 -0.38070052  0.41281759  0.07092455 -1.07484267 -0.9940888\n",
                        " -0.73900638  0.99076263 -0.59781874 -1.39289643 -1.84527528  0.45525057\n",
                        "  1.12778917  0.07401713 -1.10352399 -1.03366304  0.76966404  0.61027546\n",
                        " -0.09605056  0.77761771 -0.75587873  0.05603051 -0.87780118 -0.91909347\n",
                        " -0.82872998 -0.53332491 -1.50723504  0.71867128  1.82070267 -0.76120214\n",
                        " -1.18351254 -1.16313417  0.35389748  1.32634043 -0.9677759  -0.09852122\n",
                        "  0.88933112  1.33809555 -1.28041815 -2.21032256]\n",
                        "[ 1.49113554  0.97272567  1.63269173  4.87521909  4.16571319  0.62124947\n",
                        "  3.85479549  0.01634508  2.95624681  4.21996792  2.65090073  5.15263175\n",
                        "  2.77860664  1.42499642  4.2489429   0.23448515  4.54601408  6.36232823\n",
                        "  2.02767524  0.4820465   4.77448685  5.9580374   1.39146322  1.20343988\n",
                        "  0.40255175  1.82574668  3.14846923  1.6938379   0.63383167  2.70997513\n",
                        "  0.99266933  6.71376275  2.73623948  5.44505623  5.23509543  7.1974059\n",
                        "  1.93512634  8.57419754  0.71255617  3.80200137  0.96597754  4.3468557\n",
                        "  0.71703435  3.68811607  4.53321322  1.29069166  1.688169    3.89798508\n",
                        "  0.37055827  1.90496452  0.08509759  2.46561018  2.95694643  5.81236423\n",
                        "  1.93688497  3.95699096  0.68347912  3.84263294  0.30560982  2.15058783\n",
                        "  1.90069308 10.81293729  0.23544749  5.0662603   2.07528542  2.04443974\n",
                        "  9.49511341  2.40903657 10.76110279  1.05583391  4.43542494  4.65972194\n",
                        "  6.53557879  2.1504162   2.03890564  1.27765524  1.13662117  1.53743761\n",
                        "  2.83499937  3.31235723  4.29242807  0.3534325   3.12721829  1.44441017\n",
                        "  1.65393351  3.50561345  6.2297706   2.21350731  2.11017003  0.47476426\n",
                        "  4.80200731  1.07809959  0.49796177  4.77144599  0.94922067  7.52041563\n",
                        "  6.87412318  0.64470422  2.33378032  7.59536273]\n"
                    ]
                }
            ],
            "source": [
                "# TODO\n",
                "import numpy as np\n",
                "import statistics as stats\n",
                "import pandas as  pd\n",
                "from scipy.stats import skew\n",
                "from scipy.stats import kurtosis\n",
                "\n",
                "arr_normal = np.random.normal(size = 100)\n",
                "arr_chi_square = np.random.chisquare(df=3, size=100)\n",
                "\n",
                "print(arr_normal)\n",
                "print(arr_chi_square)\n"
            ]
        },
        {
            "cell_type": "markdown",
            "id": "968d9c87",
            "metadata": {},
            "source": [
                "MEDIA"
            ]
        },
        {
            "cell_type": "code",
            "execution_count": 85,
            "id": "deed061b",
            "metadata": {},
            "outputs": [
                {
                    "name": "stdout",
                    "output_type": "stream",
                    "text": [
                        "### Mean ###\n",
                        "·Normal array mean: -0.0843457162894294\n",
                        "·Chi square array mean: 3.076480750980914\n"
                    ]
                }
            ],
            "source": [
                "print(f'### Mean ###\\n·Normal array mean: {stats.mean(arr_normal)}\\n·Chi square array mean: {stats.mean(arr_chi_square)}')"
            ]
        },
        {
            "cell_type": "markdown",
            "id": "839ffb8c",
            "metadata": {},
            "source": [
                "MEADIAN"
            ]
        },
        {
            "cell_type": "code",
            "execution_count": 86,
            "id": "bd1cef13",
            "metadata": {},
            "outputs": [
                {
                    "name": "stdout",
                    "output_type": "stream",
                    "text": [
                        "### Median ###\n",
                        "·Normal array median: -0.023094542057387677\n",
                        "·Chi square array median: 2.3714084445760877\n"
                    ]
                }
            ],
            "source": [
                "print(f'### Median ###\\n·Normal array median: {stats.median(arr_normal)}\\n·Chi square array median: {stats.median(arr_chi_square)}')"
            ]
        },
        {
            "cell_type": "markdown",
            "id": "714a2445",
            "metadata": {},
            "source": [
                "MODE"
            ]
        },
        {
            "cell_type": "code",
            "execution_count": 87,
            "id": "81bce3f8",
            "metadata": {},
            "outputs": [
                {
                    "name": "stdout",
                    "output_type": "stream",
                    "text": [
                        "### Mode ###\n",
                        "·Normal array mode: 0.25974186635613383\n",
                        "·Chi square array mode: 1.4911355423793888\n"
                    ]
                }
            ],
            "source": [
                "print(f'### Mode ###\\n·Normal array mode: {stats.mode(arr_normal)}\\n·Chi square array mode: {stats.mode(arr_chi_square)}')"
            ]
        },
        {
            "cell_type": "markdown",
            "id": "e3b4b476",
            "metadata": {},
            "source": [
                "RANGE"
            ]
        },
        {
            "cell_type": "code",
            "execution_count": 88,
            "metadata": {},
            "outputs": [
                {
                    "name": "stdout",
                    "output_type": "stream",
                    "text": [
                        "### Range ###\n",
                        "·Normal array range: 6.168570108669502\n",
                        "·Chi square array mode: 10.796592209609896\n"
                    ]
                }
            ],
            "source": [
                "print(f'### Range ###\\n·Normal array range: {arr_normal.max() - arr_normal.min()}\\n·Chi square array mode: {arr_chi_square.max() - arr_chi_square.min()}')"
            ]
        },
        {
            "cell_type": "markdown",
            "id": "0ec73efc",
            "metadata": {},
            "source": [
                "VARIANCE"
            ]
        },
        {
            "cell_type": "code",
            "execution_count": 89,
            "metadata": {},
            "outputs": [
                {
                    "name": "stdout",
                    "output_type": "stream",
                    "text": [
                        "### Variance ###\n",
                        "·Normal array variance: 1.2993097234767346\n",
                        "·Chi square array variance: 5.753549828358902\n"
                    ]
                }
            ],
            "source": [
                "print(f'### Variance ###\\n·Normal array variance: {stats.variance(arr_normal)}\\n·Chi square array variance: {stats.variance(arr_chi_square)}')"
            ]
        },
        {
            "cell_type": "markdown",
            "id": "544f54f8",
            "metadata": {},
            "source": [
                "STANDARD DEVIATION"
            ]
        },
        {
            "cell_type": "code",
            "execution_count": 90,
            "metadata": {},
            "outputs": [
                {
                    "name": "stdout",
                    "output_type": "stream",
                    "text": [
                        "### Standard Deviation (std) ###\n",
                        "·Normal array std: 1.1398726786254394\n",
                        "·Chi square array std: 2.3986558378306175\n"
                    ]
                }
            ],
            "source": [
                "print(f'### Standard Deviation (std) ###\\n·Normal array std: {stats.stdev(arr_normal)}\\n·Chi square array std: {stats.stdev(arr_chi_square)}')"
            ]
        },
        {
            "cell_type": "markdown",
            "id": "8f071630",
            "metadata": {},
            "source": [
                "SKEWNESS"
            ]
        },
        {
            "cell_type": "code",
            "execution_count": 91,
            "metadata": {},
            "outputs": [
                {
                    "name": "stdout",
                    "output_type": "stream",
                    "text": [
                        "### Skewness ###\n",
                        "·Normal array skewness: 0.18321567104627698\n",
                        "·Chi square array skewness: 1.0973205269200403\n"
                    ]
                }
            ],
            "source": [
                "print(f'### Skewness ###\\n·Normal array skewness: {skew(arr_normal)}\\n·Chi square array skewness: {skew(arr_chi_square)}')"
            ]
        },
        {
            "cell_type": "markdown",
            "id": "716f8c20",
            "metadata": {},
            "source": [
                "CURTOSIS"
            ]
        },
        {
            "cell_type": "code",
            "execution_count": 92,
            "id": "0a706136",
            "metadata": {},
            "outputs": [
                {
                    "name": "stdout",
                    "output_type": "stream",
                    "text": [
                        "### Kurtosis ###\n",
                        "·Normal array kurtosis: -0.06489131534566006\n",
                        "·Chi square array kurtosis: 0.9690426970508046\n"
                    ]
                }
            ],
            "source": [
                "print(f'### Kurtosis ###\\n·Normal array kurtosis: {kurtosis(arr_normal)}\\n·Chi square array kurtosis: {kurtosis(arr_chi_square)}')"
            ]
        },
        {
            "cell_type": "markdown",
            "id": "46c70c3d",
            "metadata": {},
            "source": [
                "### Exercise 2\n",
                "\n",
                "Write a Python program to calculate the standard deviation of the following data:\n",
                "\n",
                "```py\n",
                "data = [4, 2, 5, 8, 6]\n",
                "```"
            ]
        },
        {
            "cell_type": "code",
            "execution_count": 93,
            "id": "d590308e",
            "metadata": {},
            "outputs": [
                {
                    "name": "stdout",
                    "output_type": "stream",
                    "text": [
                        "The data standard devistion is: 2.23606797749979\n"
                    ]
                },
                {
                    "data": {
                        "text/html": [
                            "<div>\n",
                            "<style scoped>\n",
                            "    .dataframe tbody tr th:only-of-type {\n",
                            "        vertical-align: middle;\n",
                            "    }\n",
                            "\n",
                            "    .dataframe tbody tr th {\n",
                            "        vertical-align: top;\n",
                            "    }\n",
                            "\n",
                            "    .dataframe thead th {\n",
                            "        text-align: right;\n",
                            "    }\n",
                            "</style>\n",
                            "<table border=\"1\" class=\"dataframe\">\n",
                            "  <thead>\n",
                            "    <tr style=\"text-align: right;\">\n",
                            "      <th></th>\n",
                            "      <th>0</th>\n",
                            "    </tr>\n",
                            "  </thead>\n",
                            "  <tbody>\n",
                            "    <tr>\n",
                            "      <th>count</th>\n",
                            "      <td>5.000000</td>\n",
                            "    </tr>\n",
                            "    <tr>\n",
                            "      <th>mean</th>\n",
                            "      <td>5.000000</td>\n",
                            "    </tr>\n",
                            "    <tr>\n",
                            "      <th>std</th>\n",
                            "      <td>2.236068</td>\n",
                            "    </tr>\n",
                            "    <tr>\n",
                            "      <th>min</th>\n",
                            "      <td>2.000000</td>\n",
                            "    </tr>\n",
                            "    <tr>\n",
                            "      <th>25%</th>\n",
                            "      <td>4.000000</td>\n",
                            "    </tr>\n",
                            "    <tr>\n",
                            "      <th>50%</th>\n",
                            "      <td>5.000000</td>\n",
                            "    </tr>\n",
                            "    <tr>\n",
                            "      <th>75%</th>\n",
                            "      <td>6.000000</td>\n",
                            "    </tr>\n",
                            "    <tr>\n",
                            "      <th>max</th>\n",
                            "      <td>8.000000</td>\n",
                            "    </tr>\n",
                            "  </tbody>\n",
                            "</table>\n",
                            "</div>"
                        ],
                        "text/plain": [
                            "              0\n",
                            "count  5.000000\n",
                            "mean   5.000000\n",
                            "std    2.236068\n",
                            "min    2.000000\n",
                            "25%    4.000000\n",
                            "50%    5.000000\n",
                            "75%    6.000000\n",
                            "max    8.000000"
                        ]
                    },
                    "execution_count": 93,
                    "metadata": {},
                    "output_type": "execute_result"
                }
            ],
            "source": [
                "# TODO\n",
                "import pandas as pd\n",
                "data = [4, 2, 5, 8, 6]\n",
                "\n",
                "import math\n",
                "\n",
                "def mean(vector):\n",
                "    count = 0\n",
                "    for i in vector:\n",
                "        count += i\n",
                "    mean_vector = count/len(vector)\n",
                "    return mean_vector\n",
                "\n",
                "mean(data)\n",
                "\n",
                "def sum_ds(vector):\n",
                "    sum1 = 0\n",
                "    median1 = mean(vector)\n",
                "    for i in vector:\n",
                "        sum1 += (i-median1)**2\n",
                "    return sum1\n",
                "\n",
                "my_std = math.sqrt(1/(len(data)-1)*(sum_ds(data)))# Desviacion estandard muestral (1/(n-1))*(n)\n",
                "\n",
                "print(f'The data standard devistion is: {my_std}')\n",
                "\n",
                "df_data = pd.DataFrame(data)\n",
                "\n",
                "df_data.describe()"
            ]
        }
    ],
    "metadata": {
        "interpreter": {
            "hash": "9248718ffe6ce6938b217e69dbcc175ea21f4c6b28a317e96c05334edae734bb"
        },
        "kernelspec": {
            "display_name": "Python 3.9.12 ('ML-BOOTCAMP')",
            "language": "python",
            "name": "python3"
        },
        "language_info": {
            "codemirror_mode": {
                "name": "ipython",
                "version": 3
            },
            "file_extension": ".py",
            "mimetype": "text/x-python",
            "name": "python",
            "nbconvert_exporter": "python",
            "pygments_lexer": "ipython3",
            "version": "3.12.2"
        }
    },
    "nbformat": 4,
    "nbformat_minor": 5
}
