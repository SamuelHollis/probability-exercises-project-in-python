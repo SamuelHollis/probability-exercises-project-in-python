{
    "cells": [
        {
            "cell_type": "markdown",
            "id": "ac622319",
            "metadata": {},
            "source": [
                "# Descriptive statistics problems"
            ]
        },
        {
            "cell_type": "markdown",
            "id": "5e0ab0d5",
            "metadata": {},
            "source": [
                "### Exercise 1\n",
                "\n",
                "We will use NumPy to obtain information to describe statistically.\n",
                "\n",
                "- Generate an array of 100 elements following a normal distribution.\n",
                "- Generate an array of 100 elements following a chi-square distribution with 3 degrees of freedom.\n",
                "- Calculate the main metrics and statistical measures that best describe the two vectors."
            ]
        },
        {
            "cell_type": "code",
            "execution_count": 1,
            "id": "34720ab6",
            "metadata": {},
            "outputs": [
                {
                    "name": "stdout",
                    "output_type": "stream",
                    "text": [
                        "[-4.86736261e-01  3.64062765e-01  2.05440591e-01 -7.73428609e-01\n",
                        "  1.15600900e+00  2.15012990e+00  5.69435138e-01 -5.19303554e-01\n",
                        "  7.63098865e-01 -8.20181079e-01  5.48030204e-01  1.70956316e-01\n",
                        " -4.06913298e-02 -4.50512237e-01  1.85650784e-01  2.38596816e-01\n",
                        " -5.92789452e-01 -4.87789834e-02 -1.07107122e+00 -2.80425610e-01\n",
                        "  1.19590418e-01 -1.00756352e-01  1.35719819e-01  1.88946654e-01\n",
                        " -2.00548388e-01  5.07742896e-01  2.80129396e-01 -2.00221309e+00\n",
                        "  1.97526045e-01  2.43608932e-01 -1.66783443e+00  1.41959242e+00\n",
                        "  1.55102522e+00  7.43455129e-01  1.05880352e+00 -6.24000220e-01\n",
                        "  3.40413997e-02  1.00596439e+00  6.26202484e-01  1.24359782e-01\n",
                        " -6.93444362e-01  1.55770024e+00  3.61484097e-01  1.57242844e-03\n",
                        "  7.55999873e-01  4.05753130e-01 -1.95527522e-02  1.10220474e+00\n",
                        "  1.82902916e-01  3.80975222e-03  5.80868848e-01 -1.23728999e+00\n",
                        " -1.62239388e+00  1.28072565e+00  1.97051482e+00  1.15881418e-01\n",
                        " -1.29137802e+00 -3.29685415e-01  8.64212928e-01 -1.82985166e+00\n",
                        " -5.51969328e-01  2.22858542e-01 -1.38721549e+00 -5.73562088e-01\n",
                        " -8.64874629e-01 -2.55096946e-01  1.24685280e-01  1.43539332e+00\n",
                        " -1.75020872e+00 -1.39540831e+00  8.69722462e-01 -2.77864664e-01\n",
                        " -1.71993642e+00 -4.77276194e-01 -1.05877767e+00 -6.23694359e-02\n",
                        "  4.58931456e-01  1.55576265e+00 -5.23426878e-01 -8.33582292e-02\n",
                        "  5.71002440e-01  1.71495743e+00  8.35857109e-01  5.55338225e-01\n",
                        "  1.03731953e+00 -1.45136105e-01  5.40873231e-01 -5.44289774e-04\n",
                        "  5.34196324e-01  1.22664038e+00  3.46642159e-03  1.04508083e+00\n",
                        "  3.28437970e-01  6.55113129e-02  6.40905896e-01  1.45128115e+00\n",
                        " -1.15999524e+00 -9.81669449e-01 -1.72173864e+00 -3.88012114e-01]\n",
                        "[ 3.98945387  1.97063749  5.72102244  7.56943126  1.46091642  8.16676833\n",
                        "  0.56602184  3.84064683  2.16152391  7.36266535  2.23760766  2.39152734\n",
                        "  0.93949539  5.41793918  1.58815117  3.31145244  1.17411785  0.39011265\n",
                        "  0.14275203  0.65428298  0.87212345  5.90355208  0.51765253  6.43392317\n",
                        "  4.67145606  1.83418417  1.93126026  1.35670883  3.49442956  2.63875673\n",
                        "  0.81846536  2.63897857  6.02474118 11.34851575  0.17578048  2.6165372\n",
                        "  0.75843606  0.65503653  1.48287091  3.84991383  1.63000479  3.21488563\n",
                        "  5.60011572  1.62711009  2.59546236  1.24780711  7.27537404  0.11863366\n",
                        "  1.42129503  1.17566437  2.17073741  8.04474139  0.86942829  0.07242756\n",
                        "  2.42575943  2.42459258  1.75379794 10.61743149  0.55708369  1.17188429\n",
                        "  1.41089601  3.80358381  2.52268059  4.02949271  4.58772079  5.4467261\n",
                        "  2.73194799  6.85258622  1.99086194  2.68795386  3.76675027  2.78078967\n",
                        "  4.43653557  5.43929513  1.19003949  1.81668728  0.09858537  2.75895154\n",
                        "  2.06218898  4.0249438   1.00793536  3.31967304  0.43511917  2.19798487\n",
                        "  2.69552469  4.42676232  2.21414186  2.16950418  1.59608279  1.51433411\n",
                        "  0.82245658  3.81823054  1.36555669  3.04299816  1.53747022  3.97183713\n",
                        "  1.82181309  4.94817218  0.39380415  5.98878069]\n"
                    ]
                }
            ],
            "source": [
                "# TODO\n",
                "import numpy as np\n",
                "import statistics as stats\n",
                "import pandas as  pd\n",
                "from scipy.stats import skew\n",
                "from scipy.stats import kurtosis\n",
                "\n",
                "arr_normal = np.random.normal(size = 100)\n",
                "arr_chi_square = np.random.chisquare(df=3, size=100)\n",
                "\n",
                "print(arr_normal)\n",
                "print(arr_chi_square)\n"
            ]
        },
        {
            "cell_type": "markdown",
            "id": "968d9c87",
            "metadata": {},
            "source": [
                "MEDIA"
            ]
        },
        {
            "cell_type": "code",
            "execution_count": 2,
            "id": "deed061b",
            "metadata": {},
            "outputs": [
                {
                    "name": "stdout",
                    "output_type": "stream",
                    "text": [
                        "### Mean ###\n",
                        "·Normal array mean: 0.069086639413899\n",
                        "·Chi square array mean: 2.9082148495845983\n"
                    ]
                }
            ],
            "source": [
                "print(f'### Mean ###\\n·Normal array mean: {stats.mean(arr_normal)}\\n·Chi square array mean: {stats.mean(arr_chi_square)}')"
            ]
        },
        {
            "cell_type": "markdown",
            "id": "839ffb8c",
            "metadata": {},
            "source": [
                "MEADIAN"
            ]
        },
        {
            "cell_type": "code",
            "execution_count": 3,
            "id": "bd1cef13",
            "metadata": {},
            "outputs": [
                {
                    "name": "stdout",
                    "output_type": "stream",
                    "text": [
                        "### Median ###\n",
                        "·Normal array median: 0.1245225312783001\n",
                        "·Chi square array median: 2.225874758762777\n"
                    ]
                }
            ],
            "source": [
                "print(f'### Median ###\\n·Normal array median: {stats.median(arr_normal)}\\n·Chi square array median: {stats.median(arr_chi_square)}')"
            ]
        },
        {
            "cell_type": "markdown",
            "id": "714a2445",
            "metadata": {},
            "source": [
                "MODE"
            ]
        },
        {
            "cell_type": "code",
            "execution_count": 4,
            "id": "81bce3f8",
            "metadata": {},
            "outputs": [
                {
                    "name": "stdout",
                    "output_type": "stream",
                    "text": [
                        "### Mode ###\n",
                        "·Normal array mode: -0.4867362607315646\n",
                        "·Chi square array mode: 3.9894538735257763\n"
                    ]
                }
            ],
            "source": [
                "print(f'### Mode ###\\n·Normal array mode: {stats.mode(arr_normal)}\\n·Chi square array mode: {stats.mode(arr_chi_square)}')"
            ]
        },
        {
            "cell_type": "markdown",
            "id": "e3b4b476",
            "metadata": {},
            "source": [
                "RANGE"
            ]
        },
        {
            "cell_type": "code",
            "execution_count": 5,
            "metadata": {},
            "outputs": [
                {
                    "name": "stdout",
                    "output_type": "stream",
                    "text": [
                        "### Range ###\n",
                        "·Normal array range: 4.15234298524801\n",
                        "·Chi square array mode: 11.27608819120786\n"
                    ]
                }
            ],
            "source": [
                "print(f'### Range ###\\n·Normal array range: {arr_normal.max() - arr_normal.min()}\\n·Chi square array mode: {arr_chi_square.max() - arr_chi_square.min()}')"
            ]
        },
        {
            "cell_type": "markdown",
            "id": "0ec73efc",
            "metadata": {},
            "source": [
                "VARIANCE"
            ]
        },
        {
            "cell_type": "code",
            "execution_count": 6,
            "metadata": {},
            "outputs": [
                {
                    "name": "stdout",
                    "output_type": "stream",
                    "text": [
                        "### Variance ###\n",
                        "·Normal array variance: 0.8271639987354216\n",
                        "·Chi square array variance: 5.305627918052825\n"
                    ]
                }
            ],
            "source": [
                "print(f'### Variance ###\\n·Normal array variance: {stats.variance(arr_normal)}\\n·Chi square array variance: {stats.variance(arr_chi_square)}')"
            ]
        },
        {
            "cell_type": "markdown",
            "id": "544f54f8",
            "metadata": {},
            "source": [
                "STANDARD DEVIATION"
            ]
        },
        {
            "cell_type": "code",
            "execution_count": 7,
            "metadata": {},
            "outputs": [
                {
                    "name": "stdout",
                    "output_type": "stream",
                    "text": [
                        "### Standard Deviation (std) ###\n",
                        "·Normal array std: 0.9094855681842464\n",
                        "·Chi square array std: 2.303394868026936\n"
                    ]
                }
            ],
            "source": [
                "print(f'### Standard Deviation (std) ###\\n·Normal array std: {stats.stdev(arr_normal)}\\n·Chi square array std: {stats.stdev(arr_chi_square)}')"
            ]
        },
        {
            "cell_type": "markdown",
            "id": "8f071630",
            "metadata": {},
            "source": [
                "SKEWNESS"
            ]
        },
        {
            "cell_type": "code",
            "execution_count": 8,
            "metadata": {},
            "outputs": [
                {
                    "name": "stdout",
                    "output_type": "stream",
                    "text": [
                        "### Skewness ###\n",
                        "·Normal array skewness: -0.18939002046565245\n",
                        "·Chi square array skewness: 1.314557442094028\n"
                    ]
                }
            ],
            "source": [
                "print(f'### Skewness ###\\n·Normal array skewness: {skew(arr_normal)}\\n·Chi square array skewness: {skew(arr_chi_square)}')"
            ]
        },
        {
            "cell_type": "markdown",
            "id": "716f8c20",
            "metadata": {},
            "source": [
                "CURTOSIS"
            ]
        },
        {
            "cell_type": "code",
            "execution_count": 9,
            "id": "0a706136",
            "metadata": {},
            "outputs": [
                {
                    "name": "stdout",
                    "output_type": "stream",
                    "text": [
                        "### Kurtosis ###\n",
                        "·Normal array kurtosis: -0.27430513284155067\n",
                        "·Chi square array kurtosis: 1.726470768445969\n"
                    ]
                }
            ],
            "source": [
                "print(f'### Kurtosis ###\\n·Normal array kurtosis: {kurtosis(arr_normal)}\\n·Chi square array kurtosis: {kurtosis(arr_chi_square)}')"
            ]
        },
        {
            "cell_type": "markdown",
            "id": "46c70c3d",
            "metadata": {},
            "source": [
                "### Exercise 2\n",
                "\n",
                "Write a Python program to calculate the standard deviation of the following data:\n",
                "\n",
                "```py\n",
                "data = [4, 2, 5, 8, 6]\n",
                "```"
            ]
        },
        {
            "cell_type": "code",
            "execution_count": 10,
            "id": "d590308e",
            "metadata": {},
            "outputs": [
                {
                    "name": "stdout",
                    "output_type": "stream",
                    "text": [
                        "The data standard devistion is: 2.23606797749979\n"
                    ]
                },
                {
                    "data": {
                        "text/html": [
                            "<div>\n",
                            "<style scoped>\n",
                            "    .dataframe tbody tr th:only-of-type {\n",
                            "        vertical-align: middle;\n",
                            "    }\n",
                            "\n",
                            "    .dataframe tbody tr th {\n",
                            "        vertical-align: top;\n",
                            "    }\n",
                            "\n",
                            "    .dataframe thead th {\n",
                            "        text-align: right;\n",
                            "    }\n",
                            "</style>\n",
                            "<table border=\"1\" class=\"dataframe\">\n",
                            "  <thead>\n",
                            "    <tr style=\"text-align: right;\">\n",
                            "      <th></th>\n",
                            "      <th>0</th>\n",
                            "    </tr>\n",
                            "  </thead>\n",
                            "  <tbody>\n",
                            "    <tr>\n",
                            "      <th>count</th>\n",
                            "      <td>5.000000</td>\n",
                            "    </tr>\n",
                            "    <tr>\n",
                            "      <th>mean</th>\n",
                            "      <td>5.000000</td>\n",
                            "    </tr>\n",
                            "    <tr>\n",
                            "      <th>std</th>\n",
                            "      <td>2.236068</td>\n",
                            "    </tr>\n",
                            "    <tr>\n",
                            "      <th>min</th>\n",
                            "      <td>2.000000</td>\n",
                            "    </tr>\n",
                            "    <tr>\n",
                            "      <th>25%</th>\n",
                            "      <td>4.000000</td>\n",
                            "    </tr>\n",
                            "    <tr>\n",
                            "      <th>50%</th>\n",
                            "      <td>5.000000</td>\n",
                            "    </tr>\n",
                            "    <tr>\n",
                            "      <th>75%</th>\n",
                            "      <td>6.000000</td>\n",
                            "    </tr>\n",
                            "    <tr>\n",
                            "      <th>max</th>\n",
                            "      <td>8.000000</td>\n",
                            "    </tr>\n",
                            "  </tbody>\n",
                            "</table>\n",
                            "</div>"
                        ],
                        "text/plain": [
                            "              0\n",
                            "count  5.000000\n",
                            "mean   5.000000\n",
                            "std    2.236068\n",
                            "min    2.000000\n",
                            "25%    4.000000\n",
                            "50%    5.000000\n",
                            "75%    6.000000\n",
                            "max    8.000000"
                        ]
                    },
                    "execution_count": 10,
                    "metadata": {},
                    "output_type": "execute_result"
                }
            ],
            "source": [
                "# TODO\n",
                "import pandas as pd\n",
                "data = [4, 2, 5, 8, 6]\n",
                "\n",
                "import math\n",
                "\n",
                "def mean(vector):\n",
                "    count = 0\n",
                "    for i in vector:\n",
                "        count += i\n",
                "    mean_vector = count/len(vector)\n",
                "    return mean_vector\n",
                "\n",
                "mean(data)\n",
                "\n",
                "def sum_ds(vector):\n",
                "    sum1 = 0\n",
                "    median1 = mean(vector)\n",
                "    for i in vector:\n",
                "        sum1 += (i-median1)**2\n",
                "    return sum1\n",
                "\n",
                "my_std = math.sqrt(1/(len(data)-1)*(sum_ds(data)))# Desviacion estandard muestral (1/(n-1))*(n)\n",
                "\n",
                "print(f'The data standard devistion is: {my_std}')\n",
                "\n",
                "df_data = pd.DataFrame(data)\n",
                "\n",
                "df_data.describe()"
            ]
        }
    ],
    "metadata": {
        "interpreter": {
            "hash": "9248718ffe6ce6938b217e69dbcc175ea21f4c6b28a317e96c05334edae734bb"
        },
        "kernelspec": {
            "display_name": "Python 3.9.12 ('ML-BOOTCAMP')",
            "language": "python",
            "name": "python3"
        },
        "language_info": {
            "codemirror_mode": {
                "name": "ipython",
                "version": 3
            },
            "file_extension": ".py",
            "mimetype": "text/x-python",
            "name": "python",
            "nbconvert_exporter": "python",
            "pygments_lexer": "ipython3",
            "version": "3.12.3"
        }
    },
    "nbformat": 4,
    "nbformat_minor": 5
}
